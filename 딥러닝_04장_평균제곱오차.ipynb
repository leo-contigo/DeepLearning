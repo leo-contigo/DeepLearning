{
  "nbformat": 4,
  "nbformat_minor": 0,
  "metadata": {
    "colab": {
      "provenance": [],
      "authorship_tag": "ABX9TyPI7xXZS5gND6VK38jUII8O",
      "include_colab_link": true
    },
    "kernelspec": {
      "name": "python3",
      "display_name": "Python 3"
    },
    "language_info": {
      "name": "python"
    }
  },
  "cells": [
    {
      "cell_type": "markdown",
      "metadata": {
        "id": "view-in-github",
        "colab_type": "text"
      },
      "source": [
        "<a href=\"https://colab.research.google.com/github/leo-contigo/DeepLearning/blob/main/%EB%94%A5%EB%9F%AC%EB%8B%9D_04%EC%9E%A5_%ED%8F%89%EA%B7%A0%EC%A0%9C%EA%B3%B1%EC%98%A4%EC%B0%A8.ipynb\" target=\"_parent\"><img src=\"https://colab.research.google.com/assets/colab-badge.svg\" alt=\"Open In Colab\"/></a>"
      ]
    },
    {
      "cell_type": "markdown",
      "source": [
        "# 평균 제곱 오차\n",
        "\n",
        "- 앞서 살펴본 최소 제곱법을 이용하면 최적의 기울기와 y절편을 계산할 수 있다.\n",
        "- 최소 제곱법은 입력 데이터의 컬럼이 하나일 경우 정확한 계산이 가능하다.\n",
        "\n",
        "\n",
        "- 허나 세상의 모든 데이터는 그 형태가 다르고 컬럼이 하나인 것만 존재하는 것은 아니다.\n",
        "- 이에 세상의 모든 데이터를 대응하기 위한 공식을 만들기가 어렵다.\n",
        "\n",
        "\n",
        "- 따라서 최적의 선을 차지 위해 임의 선을 하나 그리고 진짜 데이터와 얼마나 오차가 발생하는지 파악한 다음\n",
        "- 오차가 최소가 되는 선을 찾기 위해 기울기와 y절편을 조금씩 수정해 나가는 방식을 사용한다.\n",
        "- 이 때, 오차 정도를 구하기 위해서 평균 제곱 오차라는 공식을 사용한다."
      ],
      "metadata": {
        "id": "dTHkbXAs7-jr"
      }
    },
    {
      "cell_type": "code",
      "source": [
        "# 기본\n",
        "import pandas as pd\n",
        "import numpy as np\n",
        "import matplotlib.pyplot as plt\n",
        "import seaborn as sns\n",
        "\n",
        "\n",
        "# 그래프 설정 \n",
        "plt.rcParams['font.family'] = 'malgun Gothic'\n",
        "# plt.rcParams['font.family'] = 'AppleGothic'\n",
        "plt.rcParams['font.size'] = 16\n",
        "plt.rcParams['figure.figsize'] = 20, 10\n",
        "plt.rcParams['axes.unicode_minus'] = False\n",
        "\n",
        "# 그래프 설정 (코랩 한글)\n",
        "plt.rc('font' , family='NanumBarunGothic')"
      ],
      "metadata": {
        "id": "ES47ipoi9J6w"
      },
      "execution_count": 38,
      "outputs": []
    },
    {
      "cell_type": "code",
      "source": [
        "# 학습데이터\n",
        "공부한시간 = [2, 4, 6, 8]\n",
        "x = np.array([2, 4, 6, 8])\n",
        "\n",
        "성적 = [81, 93, 91, 97]\n",
        "y = np.array([81, 93, 91, 97])\n",
        "\n",
        "# 기울기와 절편\n",
        "# 가상의 기울기 a와 y절편 b\n",
        "기울기 = 3\n",
        "y절편 = 76\n",
        "\n",
        "fake_a = 3\n",
        "fake_b = 76\n",
        "\n",
        "# y = ax + b \n",
        "# 가상의 a값과 b값을 대입\n",
        "def predict(공부한시간):\n",
        "  return 기울기 * 공부한시간 + y절편\n",
        "\n",
        "def predict(x):\n",
        "  return fake_a * x + fake_b\n",
        "\n",
        "# 예측값이 들어갈 빈 리스트\n",
        "predict_result = []\n",
        "\n",
        "# 모든 x값을 한 번씩 대입\n",
        "# for v1 in range(len(공부한시간)):\n",
        "#   predict_result.append(predict(공부한시간[v1]))\n",
        "#   print('공부한시간 = %.f, 실제점수 = %.f, 예측점수 = %.f' % (공부한시간[v1], 성적[v1], predict(공부한시간[v1])))\n",
        "\n",
        "for i in range(len(x)):\n",
        "  predict_result.append(predict(x[i]))\n",
        "  print('공부한시간 = %.f, 실제점수 = %.f, 예측점수 = %.f' % (x[i] , y[i], predict(x[i])))"
      ],
      "metadata": {
        "colab": {
          "base_uri": "https://localhost:8080/"
        },
        "id": "TNSpehIx77u7",
        "outputId": "3fe1adc6-c8d7-4356-d31a-7c2e84ba9b9b"
      },
      "execution_count": 60,
      "outputs": [
        {
          "output_type": "stream",
          "name": "stdout",
          "text": [
            "공부한시간 = 2, 실제점수 = 81, 예측점수 = 82\n",
            "공부한시간 = 4, 실제점수 = 93, 예측점수 = 88\n",
            "공부한시간 = 6, 실제점수 = 91, 예측점수 = 94\n",
            "공부한시간 = 8, 실제점수 = 97, 예측점수 = 100\n"
          ]
        }
      ]
    },
    {
      "cell_type": "code",
      "source": [
        "예측성적 = []\n",
        "\n",
        "for i1 in 공부한시간 :\n",
        "    a1 = (기울기 * i1) + y절편\n",
        "    예측성적.append(a1)\n",
        "    \n",
        "예측성적"
      ],
      "metadata": {
        "colab": {
          "base_uri": "https://localhost:8080/"
        },
        "id": "mVwuSG94Cw2U",
        "outputId": "4d3dfaa0-ead0-48c2-dbda-90e503f97875"
      },
      "execution_count": 53,
      "outputs": [
        {
          "output_type": "execute_result",
          "data": {
            "text/plain": [
              "[82, 88, 94, 100]"
            ]
          },
          "metadata": {},
          "execution_count": 53
        }
      ]
    },
    {
      "cell_type": "markdown",
      "source": [
        "# 평균 제곱 오차"
      ],
      "metadata": {
        "id": "Uy7pmGzgMxQE"
      }
    },
    {
      "cell_type": "code",
      "source": [
        "# n = len(공부한시간)\n",
        "\n",
        "# def mse(성적, 성적_pred):\n",
        "#   return (1/n) * sum((성적 - 성적_pred)**2)\n",
        "# print('평균 제곱 오차 : ' + str(mse(성적, predict_result)))\n",
        "\n",
        "n = len(x)\n",
        "\n",
        "def mse(y, y_pred):\n",
        "  return (1/n) * sum((y - y_pred)**2)\n",
        "print('평균 제곱 오차 : ' + str(mse(y, predict_result)))"
      ],
      "metadata": {
        "colab": {
          "base_uri": "https://localhost:8080/"
        },
        "id": "CqfXJa3TMu2I",
        "outputId": "32dca4d3-12f5-4bda-f578-28328527bdec"
      },
      "execution_count": 61,
      "outputs": [
        {
          "output_type": "stream",
          "name": "stdout",
          "text": [
            "평균 제곱 오차 : 11.0\n"
          ]
        }
      ]
    },
    {
      "cell_type": "markdown",
      "source": [
        "오차를 줄이면서 새로운 선을 긋는 것이 이후 해야하는 과정.\n",
        "a, b 값을 적절히 조절하면서 오차의 변화를 살펴보면서 a, b 값을 구해야함."
      ],
      "metadata": {
        "id": "s4a4mNTgNFL-"
      }
    }
  ]
}