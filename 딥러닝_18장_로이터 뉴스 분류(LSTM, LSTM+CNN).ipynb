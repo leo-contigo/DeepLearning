{
  "nbformat": 4,
  "nbformat_minor": 0,
  "metadata": {
    "colab": {
      "provenance": [],
      "toc_visible": true,
      "authorship_tag": "ABX9TyNErvltkfmfuetR67FP+lzW"
    },
    "kernelspec": {
      "name": "python3",
      "display_name": "Python 3"
    },
    "language_info": {
      "name": "python"
    }
  },
  "cells": [
    {
      "cell_type": "markdown",
      "source": [
        "# 데이터\n",
        "\n",
        "- 케라스는 딥러닝 학습에 필요한 데이터를 쉽게 내려받을 수 있음.\n",
        "- load_data() 함수 제공"
      ],
      "metadata": {
        "id": "fo296TRrz18B"
      }
    },
    {
      "cell_type": "code",
      "source": [
        "# 그래프 한글 표시 \n",
        "# 나눔 폰트 설치 후 \n",
        "!sudo apt-get install -y fonts-nanum\n",
        "!sudo fc-cache -fv\n",
        "!rm ~/.cache/matplotlib -rf\n",
        "\n",
        "# 런타임 다시 시작 후 진행하기"
      ],
      "metadata": {
        "colab": {
          "base_uri": "https://localhost:8080/"
        },
        "id": "LJ7V_h0J31p1",
        "outputId": "511a4934-2391-4b6a-a740-9241b93d795d"
      },
      "execution_count": 3,
      "outputs": [
        {
          "output_type": "stream",
          "name": "stdout",
          "text": [
            "Reading package lists... Done\n",
            "Building dependency tree       \n",
            "Reading state information... Done\n",
            "The following package was automatically installed and is no longer required:\n",
            "  libnvidia-common-460\n",
            "Use 'sudo apt autoremove' to remove it.\n",
            "The following NEW packages will be installed:\n",
            "  fonts-nanum\n",
            "0 upgraded, 1 newly installed, 0 to remove and 20 not upgraded.\n",
            "Need to get 9,604 kB of archives.\n",
            "After this operation, 29.5 MB of additional disk space will be used.\n",
            "Get:1 http://archive.ubuntu.com/ubuntu bionic/universe amd64 fonts-nanum all 20170925-1 [9,604 kB]\n",
            "Fetched 9,604 kB in 2s (3,879 kB/s)\n",
            "debconf: unable to initialize frontend: Dialog\n",
            "debconf: (No usable dialog-like program is installed, so the dialog based frontend cannot be used. at /usr/share/perl5/Debconf/FrontEnd/Dialog.pm line 76, <> line 1.)\n",
            "debconf: falling back to frontend: Readline\n",
            "debconf: unable to initialize frontend: Readline\n",
            "debconf: (This frontend requires a controlling tty.)\n",
            "debconf: falling back to frontend: Teletype\n",
            "dpkg-preconfigure: unable to re-open stdin: \n",
            "Selecting previously unselected package fonts-nanum.\n",
            "(Reading database ... 124016 files and directories currently installed.)\n",
            "Preparing to unpack .../fonts-nanum_20170925-1_all.deb ...\n",
            "Unpacking fonts-nanum (20170925-1) ...\n",
            "Setting up fonts-nanum (20170925-1) ...\n",
            "Processing triggers for fontconfig (2.12.6-0ubuntu2) ...\n",
            "/usr/share/fonts: caching, new cache contents: 0 fonts, 1 dirs\n",
            "/usr/share/fonts/truetype: caching, new cache contents: 0 fonts, 3 dirs\n",
            "/usr/share/fonts/truetype/humor-sans: caching, new cache contents: 1 fonts, 0 dirs\n",
            "/usr/share/fonts/truetype/liberation: caching, new cache contents: 16 fonts, 0 dirs\n",
            "/usr/share/fonts/truetype/nanum: caching, new cache contents: 10 fonts, 0 dirs\n",
            "/usr/local/share/fonts: caching, new cache contents: 0 fonts, 0 dirs\n",
            "/root/.local/share/fonts: skipping, no such directory\n",
            "/root/.fonts: skipping, no such directory\n",
            "/var/cache/fontconfig: cleaning cache directory\n",
            "/root/.cache/fontconfig: not cleaning non-existent cache directory\n",
            "/root/.fontconfig: not cleaning non-existent cache directory\n",
            "fc-cache: succeeded\n"
          ]
        }
      ]
    },
    {
      "cell_type": "code",
      "source": [
        "import pandas as pd\n",
        "import numpy as np\n",
        "import matplotlib.pyplot as plt\n",
        "# 그래프 한글 설정\n",
        "plt.rc('font' , family='NanumBarunGothic')\n",
        "plt.rcParams['figure.figsize'] = 20, 10"
      ],
      "metadata": {
        "id": "Vcp7AMfU0amY"
      },
      "execution_count": 36,
      "outputs": []
    },
    {
      "cell_type": "code",
      "execution_count": 2,
      "metadata": {
        "id": "0wKljdHTzfbX"
      },
      "outputs": [],
      "source": [
        "# 로이터 뉴스 데이터셋 불러오기\n",
        "from tensorflow.keras.datasets import reuters"
      ]
    },
    {
      "cell_type": "code",
      "source": [
        "# 학습 : 테스트 나누기\n",
        "# num_words : 빈도가 1~1000에 해당하는 단어만 선택\n",
        "# 20%만 테스트 데이터\n",
        "(X_train, y_train), (X_test, y_test) = reuters.load_data(num_words = 1000, test_split=0.2)"
      ],
      "metadata": {
        "colab": {
          "base_uri": "https://localhost:8080/"
        },
        "id": "3WNRGUBZ0U8n",
        "outputId": "665c4677-9479-4373-84d2-501a8de40b21"
      },
      "execution_count": 6,
      "outputs": [
        {
          "output_type": "stream",
          "name": "stdout",
          "text": [
            "Downloading data from https://storage.googleapis.com/tensorflow/tf-keras-datasets/reuters.npz\n",
            "2110848/2110848 [==============================] - 0s 0us/step\n"
          ]
        }
      ]
    },
    {
      "cell_type": "code",
      "source": [
        "# 데이터 확인\n",
        "# 0부터 시작하니까 +1 \n",
        "cg = np.max(y_train) + 1\n",
        "print('카테고리:            ', cg)\n",
        "print('학습용 뉴스기사:     ', len(X_train))\n",
        "print('테스트용 뉴스기사:   ', len(X_test))\n",
        "# 테스트로 출력\n",
        "print(X_train[0])"
      ],
      "metadata": {
        "colab": {
          "base_uri": "https://localhost:8080/"
        },
        "id": "AyHRj6OO4w5Z",
        "outputId": "95fd45f6-638a-4685-faeb-c61994a59529"
      },
      "execution_count": 9,
      "outputs": [
        {
          "output_type": "stream",
          "name": "stdout",
          "text": [
            "카테고리:             46\n",
            "학습용 뉴스기사:      8982\n",
            "테스트용 뉴스기사:    2246\n",
            "[1, 2, 2, 8, 43, 10, 447, 5, 25, 207, 270, 5, 2, 111, 16, 369, 186, 90, 67, 7, 89, 5, 19, 102, 6, 19, 124, 15, 90, 67, 84, 22, 482, 26, 7, 48, 4, 49, 8, 864, 39, 209, 154, 6, 151, 6, 83, 11, 15, 22, 155, 11, 15, 7, 48, 9, 2, 2, 504, 6, 258, 6, 272, 11, 15, 22, 134, 44, 11, 15, 16, 8, 197, 2, 90, 67, 52, 29, 209, 30, 32, 132, 6, 109, 15, 17, 12]\n"
          ]
        }
      ]
    },
    {
      "cell_type": "code",
      "source": [
        "# 기사의 단어 수가 제각각 다름. 동일하게 맞춰야함.\n",
        "# 데이터 전처리 함수 : sequence()사용\n",
        "from tensorflow.keras.preprocessing import sequence\n",
        "\n",
        "# 단어의 수 맞춘다.\n",
        "# 100개로 맞추고 부족한 부분은 0으로 채워짐\n",
        "X_train = sequence.pad_sequences(X_train, maxlen=100)\n",
        "X_test = sequence.pad_sequences(X_test, maxlen=100)"
      ],
      "metadata": {
        "id": "8a6Y20Ai5vZn"
      },
      "execution_count": 14,
      "outputs": []
    },
    {
      "cell_type": "code",
      "source": [
        "# 학습\n",
        "print(X_train[0])\n",
        "print(len(X_train[0]))\n",
        "print('============================')\n",
        "# 테스트\n",
        "print(X_test[0])\n",
        "print(len(X_test[0]))"
      ],
      "metadata": {
        "colab": {
          "base_uri": "https://localhost:8080/"
        },
        "id": "BDZ5calT7x7c",
        "outputId": "461bb759-8a10-4a40-b8ed-4be87a37826b"
      },
      "execution_count": 16,
      "outputs": [
        {
          "output_type": "stream",
          "name": "stdout",
          "text": [
            "[  0   0   0   0   0   0   0   0   0   0   0   0   0   1   2   2   8  43\n",
            "  10 447   5  25 207 270   5   2 111  16 369 186  90  67   7  89   5  19\n",
            " 102   6  19 124  15  90  67  84  22 482  26   7  48   4  49   8 864  39\n",
            " 209 154   6 151   6  83  11  15  22 155  11  15   7  48   9   2   2 504\n",
            "   6 258   6 272  11  15  22 134  44  11  15  16   8 197   2  90  67  52\n",
            "  29 209  30  32 132   6 109  15  17  12]\n",
            "100\n",
            "============================\n",
            "[  5   2   7 748  48   9   2   7 207   2 966   2 793  97 133 336   7   4\n",
            " 493  98 273 104 284  25  39 338  22 905 220   2 644  59  20   6 119  61\n",
            "  11  15  58 579  26  10  67   7   4 738  98  43  88 333 722  12  20   6\n",
            "  19 746  35  15  10   9   2 855 129 783  21   4   2 244 364  51  16 299\n",
            " 452  16 515   4  99  29   5   4 364 281  48  10   9   2  23 644  47  20\n",
            " 324  27  56   2   2   5 192 510  17  12]\n",
            "100\n"
          ]
        }
      ]
    },
    {
      "cell_type": "code",
      "source": [
        "# 결과 데이터 원 핫 인코딩\n",
        "from tensorflow.keras.utils import to_categorical\n",
        "\n",
        "y_train = to_categorical(y_train)\n",
        "y_test = to_categorical(y_test)\n",
        "\n",
        "y_train[0]"
      ],
      "metadata": {
        "colab": {
          "base_uri": "https://localhost:8080/"
        },
        "id": "wUo_W9GO7_gN",
        "outputId": "f7cd51d9-184c-4953-b13f-7522dd21994b"
      },
      "execution_count": 18,
      "outputs": [
        {
          "output_type": "execute_result",
          "data": {
            "text/plain": [
              "array([0., 0., 0., 1., 0., 0., 0., 0., 0., 0., 0., 0., 0., 0., 0., 0., 0.,\n",
              "       0., 0., 0., 0., 0., 0., 0., 0., 0., 0., 0., 0., 0., 0., 0., 0., 0.,\n",
              "       0., 0., 0., 0., 0., 0., 0., 0., 0., 0., 0., 0.], dtype=float32)"
            ]
          },
          "metadata": {},
          "execution_count": 18
        }
      ]
    },
    {
      "cell_type": "markdown",
      "source": [
        "# 딥러닝 구조 - LSTM \n",
        "\n",
        "## LSTM : RNN에서 기억 값에 대한 가중치를 제어\n",
        "- LSTM(기사당 단어 수, 기타 옵션)\n",
        "- 활성화 함수 : tanh"
      ],
      "metadata": {
        "id": "UV-r20m48btN"
      }
    },
    {
      "cell_type": "code",
      "source": [
        "# 다중 분류\n",
        "loss_function = 'categorical_crossentropy'\n",
        "activation_function = 'softmax'"
      ],
      "metadata": {
        "id": "w4tJV8Tg-_2p"
      },
      "execution_count": 20,
      "outputs": []
    },
    {
      "cell_type": "code",
      "source": [
        "# 신경망 모델을 관리하는 객체\n",
        "from tensorflow.keras.models import Sequential\n",
        "# 선형 회귀 레이어, RNN ( LSTM )\n",
        "from tensorflow.keras.layers import Dense, LSTM, Embedding\n",
        "# 활성화 함수를 정의하는 객체\n",
        "from tensorflow.keras.layers import Activation\n",
        "# 조기 중단\n",
        "from tensorflow.keras.callbacks import EarlyStopping"
      ],
      "metadata": {
        "id": "xCGs3XVE7_do"
      },
      "execution_count": 19,
      "outputs": []
    },
    {
      "cell_type": "code",
      "source": [
        "model = Sequential()\n",
        "\n",
        "# 데이터 전처리과정을 통해 입력된 값을 받아 다음층이 알 수 있는 형태로 변환.\n",
        "# Embadding('불러온단어의 총 수', '기사당 단어 수')\n",
        "model.add(Embedding(1000, 100))\n",
        "model.add(LSTM(100, activation='tanh'))\n",
        "\n",
        "# 출력층\n",
        "model.add(Dense(46, activation= activation_function))\n",
        "\n",
        "# 모델 실행옵션\n",
        "model.compile(loss=loss_function, optimizer='adam', metrics=['accuracy'])\n",
        "\n",
        "model.summary()"
      ],
      "metadata": {
        "colab": {
          "base_uri": "https://localhost:8080/"
        },
        "id": "fmr2phcX7_a6",
        "outputId": "fe7588ca-863b-45a9-acd7-02cb33b313cf"
      },
      "execution_count": 23,
      "outputs": [
        {
          "output_type": "stream",
          "name": "stdout",
          "text": [
            "Model: \"sequential_2\"\n",
            "_________________________________________________________________\n",
            " Layer (type)                Output Shape              Param #   \n",
            "=================================================================\n",
            " embedding_2 (Embedding)     (None, None, 100)         100000    \n",
            "                                                                 \n",
            " lstm_2 (LSTM)               (None, 100)               80400     \n",
            "                                                                 \n",
            " dense (Dense)               (None, 46)                4646      \n",
            "                                                                 \n",
            "=================================================================\n",
            "Total params: 185,046\n",
            "Trainable params: 185,046\n",
            "Non-trainable params: 0\n",
            "_________________________________________________________________\n"
          ]
        }
      ]
    },
    {
      "cell_type": "code",
      "source": [
        "# 조기 중단 설정\n",
        "es = EarlyStopping(monitor='val_loss', patience=5)\n",
        "\n",
        "# 모델 실행\n",
        "history = model.fit(X_train, y_train, batch_size=20, epochs=200, validation_data=(X_test, y_test), callbacks=es)"
      ],
      "metadata": {
        "colab": {
          "base_uri": "https://localhost:8080/"
        },
        "id": "FAwYZHd57_YT",
        "outputId": "f92d6aee-9e6b-43e9-bdd0-235b37d7daeb"
      },
      "execution_count": 25,
      "outputs": [
        {
          "output_type": "stream",
          "name": "stdout",
          "text": [
            "Epoch 1/200\n",
            "450/450 [==============================] - 45s 91ms/step - loss: 2.2292 - accuracy: 0.4361 - val_loss: 1.9632 - val_accuracy: 0.5102\n",
            "Epoch 2/200\n",
            "450/450 [==============================] - 40s 89ms/step - loss: 1.7685 - accuracy: 0.5511 - val_loss: 1.7060 - val_accuracy: 0.5663\n",
            "Epoch 3/200\n",
            "450/450 [==============================] - 40s 89ms/step - loss: 1.6075 - accuracy: 0.5880 - val_loss: 1.5681 - val_accuracy: 0.6002\n",
            "Epoch 4/200\n",
            "450/450 [==============================] - 40s 89ms/step - loss: 1.4342 - accuracy: 0.6374 - val_loss: 1.4353 - val_accuracy: 0.6496\n",
            "Epoch 5/200\n",
            "450/450 [==============================] - 42s 93ms/step - loss: 1.2641 - accuracy: 0.6859 - val_loss: 1.3158 - val_accuracy: 0.6705\n",
            "Epoch 6/200\n",
            "450/450 [==============================] - 40s 90ms/step - loss: 1.1507 - accuracy: 0.7099 - val_loss: 1.2666 - val_accuracy: 0.6745\n",
            "Epoch 7/200\n",
            "450/450 [==============================] - 41s 90ms/step - loss: 1.0552 - accuracy: 0.7335 - val_loss: 1.1955 - val_accuracy: 0.6972\n",
            "Epoch 8/200\n",
            "450/450 [==============================] - 40s 88ms/step - loss: 0.9793 - accuracy: 0.7495 - val_loss: 1.1842 - val_accuracy: 0.7066\n",
            "Epoch 9/200\n",
            "450/450 [==============================] - 41s 91ms/step - loss: 0.9013 - accuracy: 0.7701 - val_loss: 1.1635 - val_accuracy: 0.7128\n",
            "Epoch 10/200\n",
            "450/450 [==============================] - 40s 88ms/step - loss: 0.8386 - accuracy: 0.7879 - val_loss: 1.1165 - val_accuracy: 0.7191\n",
            "Epoch 11/200\n",
            "450/450 [==============================] - 40s 88ms/step - loss: 0.7778 - accuracy: 0.8012 - val_loss: 1.1597 - val_accuracy: 0.7191\n",
            "Epoch 12/200\n",
            "450/450 [==============================] - 40s 88ms/step - loss: 0.7234 - accuracy: 0.8124 - val_loss: 1.1850 - val_accuracy: 0.7168\n",
            "Epoch 13/200\n",
            "450/450 [==============================] - 40s 89ms/step - loss: 0.6711 - accuracy: 0.8280 - val_loss: 1.1667 - val_accuracy: 0.7244\n",
            "Epoch 14/200\n",
            "450/450 [==============================] - 41s 92ms/step - loss: 0.6236 - accuracy: 0.8399 - val_loss: 1.1824 - val_accuracy: 0.7195\n",
            "Epoch 15/200\n",
            "450/450 [==============================] - 40s 90ms/step - loss: 0.5848 - accuracy: 0.8501 - val_loss: 1.2018 - val_accuracy: 0.7173\n"
          ]
        }
      ]
    },
    {
      "cell_type": "code",
      "source": [
        "# 테스트 데이터 정확도\n",
        "print('Test 정확도 : %.4f'%(model.evaluate(X_test, y_test)[1]))"
      ],
      "metadata": {
        "colab": {
          "base_uri": "https://localhost:8080/"
        },
        "id": "YqOzExn97_Vu",
        "outputId": "152a610a-4d40-4cfe-aa20-f048a9f049ff"
      },
      "execution_count": 28,
      "outputs": [
        {
          "output_type": "stream",
          "name": "stdout",
          "text": [
            "71/71 [==============================] - 2s 30ms/step - loss: 1.2018 - accuracy: 0.7173\n",
            "Test 정확도 : 0.7173\n"
          ]
        }
      ]
    },
    {
      "cell_type": "code",
      "source": [
        "# 검증셋, 학습셋 오차를 저장\n",
        "y_vloss = history.history['val_loss']\n",
        "y_loss = history.history['loss']"
      ],
      "metadata": {
        "id": "jN3x276qDybe"
      },
      "execution_count": 30,
      "outputs": []
    },
    {
      "cell_type": "code",
      "source": [
        "# 시각화\n",
        "# 손실률\n",
        "\n",
        "x_len = np.arange(len(y_loss))\n",
        "plt.plot(x_len, y_vloss, marker='.', c='red', label='테스트셋loss')\n",
        "plt.plot(x_len, y_loss, marker='.', c='green', label='훈련셋loss')\n",
        "plt.legend(loc='upper right')\n",
        "plt.grid()\n",
        "plt.xlabel('epoch')\n",
        "plt.ylabel('loss');"
      ],
      "metadata": {
        "colab": {
          "base_uri": "https://localhost:8080/",
          "height": 606
        },
        "id": "u0JH2gwnEHZ4",
        "outputId": "44cef70f-3158-4cab-b06e-510c0eda9eb0"
      },
      "execution_count": 37,
      "outputs": [
        {
          "output_type": "display_data",
          "data": {
            "text/plain": [
              "<Figure size 1440x720 with 1 Axes>"
            ],
            "image/png": "[encoded data removed]"
          },
          "metadata": {
            "needs_background": "light"
          }
        }
      ]
    },
    {
      "cell_type": "code",
      "source": [
        "# 15번째에서 학습이 중단됨.\n",
        "# 71.73% 의 정확도\n",
        "# 테스트 데이터 오차가 상승할때 학습이 멈춤."
      ],
      "metadata": {
        "id": "XEf9ok-pEWaA"
      },
      "execution_count": null,
      "outputs": []
    },
    {
      "cell_type": "markdown",
      "source": [
        "\n",
        "\n",
        "---\n",
        "\n"
      ],
      "metadata": {
        "id": "UfgP9E2jIH4d"
      }
    },
    {
      "cell_type": "markdown",
      "source": [
        "# 딥러닝 구조 - LSTM + CNN"
      ],
      "metadata": {
        "id": "HvuQZs7MII1V"
      }
    },
    {
      "cell_type": "code",
      "source": [
        "# CNN : 커널을 통해 합성곱을 구하는 것\n",
        "# 이미지의 특징이 두드러 지게 한다.\n",
        "from tensorflow.keras.layers import Conv1D\n",
        "\n",
        "# MaxPooling : 커널내에서 가장 큰 값을 추출하는 방식으로 불필요한 부분 제거\n",
        "from tensorflow.keras.layers import MaxPool1D\n",
        "\n",
        "# 오랫동안 학습이 진행될 수 있도록 한다.\n",
        "from tensorflow.keras.layers import Dropout"
      ],
      "metadata": {
        "id": "OATc0fUiILkg"
      },
      "execution_count": 38,
      "outputs": []
    },
    {
      "cell_type": "code",
      "source": [
        "# 모델 설정\n",
        "model = Sequential()\n",
        "model.add(Embedding(1000, 100))\n",
        "\n",
        "model.add(Dropout(0.5))\n",
        "# CNN\n",
        "model.add(Conv1D(64, kernel_size=3))\n",
        "model.add(Activation('relu'))\n",
        "model.add(MaxPool1D(pool_size=2))\n",
        "model.add(Dropout(0.25))\n",
        "\n",
        "\n",
        "model.add(LSTM(100))\n",
        "model.add(Activation('tanh'))\n",
        "\n",
        "# 출력층\n",
        "model.add(Dense(46, activation= activation_function))\n",
        "# 모델 실행옵션\n",
        "model.compile(loss=loss_function, optimizer='adam', metrics=['accuracy'])\n",
        "\n",
        "model.summary()"
      ],
      "metadata": {
        "colab": {
          "base_uri": "https://localhost:8080/"
        },
        "id": "RBFx5p1ZJVsb",
        "outputId": "5c9be039-dbfb-41df-da02-a2299ff905f5"
      },
      "execution_count": 39,
      "outputs": [
        {
          "output_type": "stream",
          "name": "stdout",
          "text": [
            "Model: \"sequential_3\"\n",
            "_________________________________________________________________\n",
            " Layer (type)                Output Shape              Param #   \n",
            "=================================================================\n",
            " embedding_3 (Embedding)     (None, None, 100)         100000    \n",
            "                                                                 \n",
            " dropout (Dropout)           (None, None, 100)         0         \n",
            "                                                                 \n",
            " conv1d (Conv1D)             (None, None, 64)          19264     \n",
            "                                                                 \n",
            " activation (Activation)     (None, None, 64)          0         \n",
            "                                                                 \n",
            " max_pooling1d (MaxPooling1D  (None, None, 64)         0         \n",
            " )                                                               \n",
            "                                                                 \n",
            " dropout_1 (Dropout)         (None, None, 64)          0         \n",
            "                                                                 \n",
            " lstm_3 (LSTM)               (None, 100)               66000     \n",
            "                                                                 \n",
            " activation_1 (Activation)   (None, 100)               0         \n",
            "                                                                 \n",
            " dense_1 (Dense)             (None, 46)                4646      \n",
            "                                                                 \n",
            "=================================================================\n",
            "Total params: 189,910\n",
            "Trainable params: 189,910\n",
            "Non-trainable params: 0\n",
            "_________________________________________________________________\n"
          ]
        }
      ]
    },
    {
      "cell_type": "code",
      "source": [
        "# 조기 중단 설정\n",
        "es = EarlyStopping(monitor='val_loss', patience=5)\n",
        "\n",
        "# 모델 실행\n",
        "history = model.fit(X_train, y_train, batch_size=20, epochs=200, validation_data=(X_test, y_test), callbacks=es)"
      ],
      "metadata": {
        "colab": {
          "base_uri": "https://localhost:8080/"
        },
        "id": "ijNs9vtiJ8Lq",
        "outputId": "80c1e7e3-712b-4fce-d131-19760b507579"
      },
      "execution_count": 40,
      "outputs": [
        {
          "output_type": "stream",
          "name": "stdout",
          "text": [
            "Epoch 1/200\n",
            "450/450 [==============================] - 36s 76ms/step - loss: 2.1381 - accuracy: 0.4564 - val_loss: 1.7966 - val_accuracy: 0.5445\n",
            "Epoch 2/200\n",
            "450/450 [==============================] - 35s 78ms/step - loss: 1.6941 - accuracy: 0.5649 - val_loss: 1.6188 - val_accuracy: 0.5837\n",
            "Epoch 3/200\n",
            "450/450 [==============================] - 29s 65ms/step - loss: 1.5197 - accuracy: 0.6131 - val_loss: 1.5014 - val_accuracy: 0.6260\n",
            "Epoch 4/200\n",
            "450/450 [==============================] - 29s 64ms/step - loss: 1.3830 - accuracy: 0.6520 - val_loss: 1.4546 - val_accuracy: 0.6224\n",
            "Epoch 5/200\n",
            "450/450 [==============================] - 29s 65ms/step - loss: 1.2843 - accuracy: 0.6771 - val_loss: 1.3457 - val_accuracy: 0.6585\n",
            "Epoch 6/200\n",
            "450/450 [==============================] - 29s 63ms/step - loss: 1.2059 - accuracy: 0.6931 - val_loss: 1.2838 - val_accuracy: 0.6763\n",
            "Epoch 7/200\n",
            "450/450 [==============================] - 28s 62ms/step - loss: 1.1536 - accuracy: 0.7032 - val_loss: 1.2834 - val_accuracy: 0.6647\n",
            "Epoch 8/200\n",
            "450/450 [==============================] - 29s 64ms/step - loss: 1.1098 - accuracy: 0.7114 - val_loss: 1.2359 - val_accuracy: 0.6794\n",
            "Epoch 9/200\n",
            "450/450 [==============================] - 32s 71ms/step - loss: 1.0762 - accuracy: 0.7248 - val_loss: 1.2203 - val_accuracy: 0.6861\n",
            "Epoch 10/200\n",
            "450/450 [==============================] - 29s 64ms/step - loss: 1.0371 - accuracy: 0.7317 - val_loss: 1.1930 - val_accuracy: 0.6950\n",
            "Epoch 11/200\n",
            "450/450 [==============================] - 28s 62ms/step - loss: 1.0110 - accuracy: 0.7350 - val_loss: 1.2131 - val_accuracy: 0.6839\n",
            "Epoch 12/200\n",
            "450/450 [==============================] - 28s 63ms/step - loss: 0.9755 - accuracy: 0.7447 - val_loss: 1.1679 - val_accuracy: 0.6999\n",
            "Epoch 13/200\n",
            "450/450 [==============================] - 28s 63ms/step - loss: 0.9435 - accuracy: 0.7497 - val_loss: 1.1669 - val_accuracy: 0.6999\n",
            "Epoch 14/200\n",
            "450/450 [==============================] - 28s 62ms/step - loss: 0.9123 - accuracy: 0.7620 - val_loss: 1.1591 - val_accuracy: 0.7044\n",
            "Epoch 15/200\n",
            "450/450 [==============================] - 29s 64ms/step - loss: 0.8806 - accuracy: 0.7741 - val_loss: 1.1304 - val_accuracy: 0.7208\n",
            "Epoch 16/200\n",
            "450/450 [==============================] - 28s 62ms/step - loss: 0.8454 - accuracy: 0.7780 - val_loss: 1.1445 - val_accuracy: 0.7177\n",
            "Epoch 17/200\n",
            "450/450 [==============================] - 28s 62ms/step - loss: 0.8236 - accuracy: 0.7858 - val_loss: 1.1445 - val_accuracy: 0.7106\n",
            "Epoch 18/200\n",
            "450/450 [==============================] - 28s 62ms/step - loss: 0.7927 - accuracy: 0.7930 - val_loss: 1.1345 - val_accuracy: 0.7164\n",
            "Epoch 19/200\n",
            "450/450 [==============================] - 28s 62ms/step - loss: 0.7702 - accuracy: 0.7989 - val_loss: 1.1375 - val_accuracy: 0.7253\n",
            "Epoch 20/200\n",
            "450/450 [==============================] - 29s 65ms/step - loss: 0.7523 - accuracy: 0.8023 - val_loss: 1.1424 - val_accuracy: 0.7186\n"
          ]
        }
      ]
    },
    {
      "cell_type": "code",
      "source": [
        "# 테스트 데이터 정확도\n",
        "print('Test 정확도 : %.4f'%(model.evaluate(X_test, y_test)[1]))"
      ],
      "metadata": {
        "colab": {
          "base_uri": "https://localhost:8080/"
        },
        "id": "5ZdJoAt0J8I0",
        "outputId": "7f1d5264-1d93-4957-cceb-69dc70fe21eb"
      },
      "execution_count": 46,
      "outputs": [
        {
          "output_type": "stream",
          "name": "stdout",
          "text": [
            "71/71 [==============================] - 2s 21ms/step - loss: 1.1424 - accuracy: 0.7186\n",
            "Test 정확도 : 0.7186\n"
          ]
        }
      ]
    },
    {
      "cell_type": "code",
      "source": [
        "# 검증셋, 학습셋 오차를 저장\n",
        "y_vloss2 = history.history['val_loss']\n",
        "y_loss2 = history.history['loss']"
      ],
      "metadata": {
        "id": "g1Gga4sJKChm"
      },
      "execution_count": 42,
      "outputs": []
    },
    {
      "cell_type": "code",
      "source": [
        "# 시각화\n",
        "# 손실률\n",
        "\n",
        "x_len = np.arange(len(y_loss2))\n",
        "plt.plot(x_len, y_vloss2, marker='.', c='red', label='테스트셋loss')\n",
        "plt.plot(x_len, y_loss2, marker='.', c='green', label='훈련셋loss')\n",
        "plt.legend(loc='upper right')\n",
        "plt.grid()\n",
        "plt.xlabel('epoch')\n",
        "plt.ylabel('loss');"
      ],
      "metadata": {
        "colab": {
          "base_uri": "https://localhost:8080/",
          "height": 606
        },
        "id": "M1aWrLmoKCes",
        "outputId": "84ca5d23-6acb-4e56-cb73-3c58d3f21dac"
      },
      "execution_count": 43,
      "outputs": [
        {
          "output_type": "display_data",
          "data": {
            "text/plain": [
              "<Figure size 1440x720 with 1 Axes>"
            ],
            "image/png": "[encoded data removed]"
          },
          "metadata": {
            "needs_background": "light"
          }
        }
      ]
    },
    {
      "cell_type": "code",
      "source": [],
      "metadata": {
        "id": "1HCuErIHKCbS"
      },
      "execution_count": null,
      "outputs": []
    },
    {
      "cell_type": "code",
      "source": [],
      "metadata": {
        "id": "d1udyAjgKCYK"
      },
      "execution_count": null,
      "outputs": []
    }
  ]
}